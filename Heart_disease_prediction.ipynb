{
  "nbformat": 4,
  "nbformat_minor": 0,
  "metadata": {
    "colab": {
      "provenance": []
    },
    "kernelspec": {
      "name": "python3",
      "display_name": "Python 3"
    },
    "language_info": {
      "name": "python"
    }
  },
  "cells": [
    {
      "cell_type": "code",
      "execution_count": 1,
      "metadata": {
        "colab": {
          "base_uri": "https://localhost:8080/"
        },
        "id": "FHsUCi0F79th",
        "outputId": "2a039524-cb08-469c-ff55-32b1b81b9d4a"
      },
      "outputs": [
        {
          "output_type": "stream",
          "name": "stdout",
          "text": [
            "Requirement already satisfied: pandas in /usr/local/lib/python3.11/dist-packages (2.2.2)\n",
            "Requirement already satisfied: numpy in /usr/local/lib/python3.11/dist-packages (2.0.2)\n",
            "Requirement already satisfied: scikit-learn in /usr/local/lib/python3.11/dist-packages (1.6.1)\n",
            "Requirement already satisfied: matplotlib in /usr/local/lib/python3.11/dist-packages (3.10.0)\n",
            "Requirement already satisfied: seaborn in /usr/local/lib/python3.11/dist-packages (0.13.2)\n",
            "Collecting imblearn\n",
            "  Downloading imblearn-0.0-py2.py3-none-any.whl.metadata (355 bytes)\n",
            "Requirement already satisfied: python-dateutil>=2.8.2 in /usr/local/lib/python3.11/dist-packages (from pandas) (2.9.0.post0)\n",
            "Requirement already satisfied: pytz>=2020.1 in /usr/local/lib/python3.11/dist-packages (from pandas) (2025.2)\n",
            "Requirement already satisfied: tzdata>=2022.7 in /usr/local/lib/python3.11/dist-packages (from pandas) (2025.2)\n",
            "Requirement already satisfied: scipy>=1.6.0 in /usr/local/lib/python3.11/dist-packages (from scikit-learn) (1.15.3)\n",
            "Requirement already satisfied: joblib>=1.2.0 in /usr/local/lib/python3.11/dist-packages (from scikit-learn) (1.5.0)\n",
            "Requirement already satisfied: threadpoolctl>=3.1.0 in /usr/local/lib/python3.11/dist-packages (from scikit-learn) (3.6.0)\n",
            "Requirement already satisfied: contourpy>=1.0.1 in /usr/local/lib/python3.11/dist-packages (from matplotlib) (1.3.2)\n",
            "Requirement already satisfied: cycler>=0.10 in /usr/local/lib/python3.11/dist-packages (from matplotlib) (0.12.1)\n",
            "Requirement already satisfied: fonttools>=4.22.0 in /usr/local/lib/python3.11/dist-packages (from matplotlib) (4.58.0)\n",
            "Requirement already satisfied: kiwisolver>=1.3.1 in /usr/local/lib/python3.11/dist-packages (from matplotlib) (1.4.8)\n",
            "Requirement already satisfied: packaging>=20.0 in /usr/local/lib/python3.11/dist-packages (from matplotlib) (24.2)\n",
            "Requirement already satisfied: pillow>=8 in /usr/local/lib/python3.11/dist-packages (from matplotlib) (11.2.1)\n",
            "Requirement already satisfied: pyparsing>=2.3.1 in /usr/local/lib/python3.11/dist-packages (from matplotlib) (3.2.3)\n",
            "Requirement already satisfied: imbalanced-learn in /usr/local/lib/python3.11/dist-packages (from imblearn) (0.13.0)\n",
            "Requirement already satisfied: six>=1.5 in /usr/local/lib/python3.11/dist-packages (from python-dateutil>=2.8.2->pandas) (1.17.0)\n",
            "Requirement already satisfied: sklearn-compat<1,>=0.1 in /usr/local/lib/python3.11/dist-packages (from imbalanced-learn->imblearn) (0.1.3)\n",
            "Downloading imblearn-0.0-py2.py3-none-any.whl (1.9 kB)\n",
            "Installing collected packages: imblearn\n",
            "Successfully installed imblearn-0.0\n"
          ]
        }
      ],
      "source": [
        "!pip install pandas numpy scikit-learn matplotlib seaborn imblearn"
      ]
    },
    {
      "cell_type": "code",
      "source": [
        "import pandas as pd\n",
        "import numpy as np\n",
        "\n",
        "# Load dataset\n",
        "df = pd.read_csv('/content/heart_disease_uci.csv')\n",
        "\n",
        "# Filter to Cleveland dataset\n",
        "df = df[df['dataset'] == 'Cleveland']\n",
        "\n",
        "# Map 'num' to binary (0 = no disease, 1 = heart disease)\n",
        "df['num'] = df['num'].apply(lambda x: 0 if x == 0 else 1)\n",
        "\n",
        "# Inspect\n",
        "print(\"Dataset Shape:\", df.shape)\n",
        "print(\"\\nFirst 5 Rows:\")\n",
        "print(df.head())\n",
        "print(\"\\nMissing Values:\")\n",
        "print(df.isnull().sum())\n",
        "print(\"\\nTarget Distribution:\")\n",
        "print(df['num'].value_counts(normalize=True))"
      ],
      "metadata": {
        "colab": {
          "base_uri": "https://localhost:8080/"
        },
        "id": "UmMRxXWh-QU5",
        "outputId": "5c1f213a-69e5-43ef-bbf3-724b2414db0c"
      },
      "execution_count": 5,
      "outputs": [
        {
          "output_type": "stream",
          "name": "stdout",
          "text": [
            "Dataset Shape: (304, 16)\n",
            "\n",
            "First 5 Rows:\n",
            "   id  age     sex    dataset               cp  trestbps   chol    fbs  \\\n",
            "0   1   63    Male  Cleveland   typical angina     145.0  233.0   True   \n",
            "1   2   67    Male  Cleveland     asymptomatic     160.0  286.0  False   \n",
            "2   3   67    Male  Cleveland     asymptomatic     120.0  229.0  False   \n",
            "3   4   37    Male  Cleveland      non-anginal     130.0  250.0  False   \n",
            "4   5   41  Female  Cleveland  atypical angina     130.0  204.0  False   \n",
            "\n",
            "          restecg  thalch  exang  oldpeak        slope   ca  \\\n",
            "0  lv hypertrophy   150.0  False      2.3  downsloping  0.0   \n",
            "1  lv hypertrophy   108.0   True      1.5         flat  3.0   \n",
            "2  lv hypertrophy   129.0   True      2.6         flat  2.0   \n",
            "3          normal   187.0  False      3.5  downsloping  0.0   \n",
            "4  lv hypertrophy   172.0  False      1.4    upsloping  0.0   \n",
            "\n",
            "                thal  num  \n",
            "0       fixed defect    0  \n",
            "1             normal    1  \n",
            "2  reversable defect    1  \n",
            "3             normal    0  \n",
            "4             normal    0  \n",
            "\n",
            "Missing Values:\n",
            "id          0\n",
            "age         0\n",
            "sex         0\n",
            "dataset     0\n",
            "cp          0\n",
            "trestbps    0\n",
            "chol        0\n",
            "fbs         0\n",
            "restecg     0\n",
            "thalch      0\n",
            "exang       0\n",
            "oldpeak     0\n",
            "slope       1\n",
            "ca          5\n",
            "thal        3\n",
            "num         0\n",
            "dtype: int64\n",
            "\n",
            "Target Distribution:\n",
            "num\n",
            "0    0.542763\n",
            "1    0.457237\n",
            "Name: proportion, dtype: float64\n"
          ]
        }
      ]
    },
    {
      "cell_type": "code",
      "source": [
        "# Numerical columns\n",
        "numerical_cols = ['age', 'trestbps', 'chol', 'thalch', 'oldpeak', 'ca']\n",
        "for col in numerical_cols:\n",
        "    df[col] = df[col].fillna(df[col].median())\n",
        "\n",
        "# Categorical columns\n",
        "categorical_cols = ['sex', 'cp', 'fbs', 'restecg', 'exang', 'slope', 'thal']\n",
        "for col in categorical_cols:\n",
        "    df[col] = df[col].fillna(df[col].mode()[0])\n",
        "\n",
        "# Verify\n",
        "print(\"Missing Values After Imputation:\")\n",
        "print(df.isnull().sum())"
      ],
      "metadata": {
        "colab": {
          "base_uri": "https://localhost:8080/"
        },
        "id": "PLpGJPTy-4JL",
        "outputId": "e41afa12-8341-443f-a4ca-edb0b01b42c9"
      },
      "execution_count": 6,
      "outputs": [
        {
          "output_type": "stream",
          "name": "stdout",
          "text": [
            "Missing Values After Imputation:\n",
            "id          0\n",
            "age         0\n",
            "sex         0\n",
            "dataset     0\n",
            "cp          0\n",
            "trestbps    0\n",
            "chol        0\n",
            "fbs         0\n",
            "restecg     0\n",
            "thalch      0\n",
            "exang       0\n",
            "oldpeak     0\n",
            "slope       0\n",
            "ca          0\n",
            "thal        0\n",
            "num         0\n",
            "dtype: int64\n"
          ]
        },
        {
          "output_type": "stream",
          "name": "stderr",
          "text": [
            "<ipython-input-6-2f4c415aba83>:9: FutureWarning: Downcasting object dtype arrays on .fillna, .ffill, .bfill is deprecated and will change in a future version. Call result.infer_objects(copy=False) instead. To opt-in to the future behavior, set `pd.set_option('future.no_silent_downcasting', True)`\n",
            "  df[col] = df[col].fillna(df[col].mode()[0])\n"
          ]
        }
      ]
    },
    {
      "cell_type": "code",
      "source": [
        "df = df.drop(['id', 'dataset'], axis=1)"
      ],
      "metadata": {
        "id": "VwXwJFF__C_0"
      },
      "execution_count": 7,
      "outputs": []
    },
    {
      "cell_type": "code",
      "source": [
        "df_encoded = pd.get_dummies(df, columns=['sex', 'cp', 'restecg', 'slope', 'thal'], drop_first=True)\n",
        "print(\"Encoded Shape:\", df_encoded.shape)"
      ],
      "metadata": {
        "colab": {
          "base_uri": "https://localhost:8080/"
        },
        "id": "H0mZtgVJ_HZI",
        "outputId": "c4aec637-43f5-4e84-872a-65abdbbc270e"
      },
      "execution_count": 8,
      "outputs": [
        {
          "output_type": "stream",
          "name": "stdout",
          "text": [
            "Encoded Shape: (304, 19)\n"
          ]
        }
      ]
    },
    {
      "cell_type": "code",
      "source": [
        "print(\"Encoded Columns:\", df_encoded.columns)"
      ],
      "metadata": {
        "colab": {
          "base_uri": "https://localhost:8080/"
        },
        "id": "X6cU0kMM_8Je",
        "outputId": "7402d370-48b1-4b1c-fb9d-269839a7ffe7"
      },
      "execution_count": 9,
      "outputs": [
        {
          "output_type": "stream",
          "name": "stdout",
          "text": [
            "Encoded Columns: Index(['age', 'trestbps', 'chol', 'fbs', 'thalch', 'exang', 'oldpeak', 'ca',\n",
            "       'num', 'sex_Male', 'cp_atypical angina', 'cp_non-anginal',\n",
            "       'cp_typical angina', 'restecg_normal', 'restecg_st-t abnormality',\n",
            "       'slope_flat', 'slope_upsloping', 'thal_normal',\n",
            "       'thal_reversable defect'],\n",
            "      dtype='object')\n"
          ]
        }
      ]
    },
    {
      "cell_type": "code",
      "source": [
        "from sklearn.preprocessing import StandardScaler\n",
        "\n",
        "numerical_cols = ['age', 'trestbps', 'chol', 'thalch', 'oldpeak', 'ca']\n",
        "scaler = StandardScaler()\n",
        "df_encoded[numerical_cols] = scaler.fit_transform(df_encoded[numerical_cols])\n",
        "print(\"Scaled Features Summary:\")\n",
        "print(df_encoded[numerical_cols].describe())"
      ],
      "metadata": {
        "colab": {
          "base_uri": "https://localhost:8080/"
        },
        "id": "P1IBddENAUyk",
        "outputId": "ee5db085-8a88-4482-e9df-73256fbfb109"
      },
      "execution_count": 10,
      "outputs": [
        {
          "output_type": "stream",
          "name": "stdout",
          "text": [
            "Scaled Features Summary:\n",
            "                age      trestbps          chol        thalch       oldpeak  \\\n",
            "count  3.040000e+02  3.040000e+02  3.040000e+02  3.040000e+02  3.040000e+02   \n",
            "mean  -1.285521e-16  4.937571e-16 -1.694551e-16 -5.901712e-16  5.843279e-17   \n",
            "std    1.001649e+00  1.001649e+00  1.001649e+00  1.001649e+00  1.001649e+00   \n",
            "min   -2.884665e+00 -2.148225e+00 -2.312764e+00 -3.439289e+00 -8.942032e-01   \n",
            "25%   -7.226966e-01 -6.660696e-01 -6.788560e-01 -6.978601e-01 -8.942032e-01   \n",
            "50%    1.256707e-01 -9.601004e-02 -1.117937e-01  1.431360e-01 -2.038216e-01   \n",
            "75%    7.277378e-01  4.740496e-01  5.513808e-01  7.110815e-01  4.865601e-01   \n",
            "max    2.479206e+00  3.894407e+00  6.106669e+00  2.283854e+00  4.456254e+00   \n",
            "\n",
            "                 ca  \n",
            "count  3.040000e+02  \n",
            "mean  -6.427607e-17  \n",
            "std    1.001649e+00  \n",
            "min   -7.093710e-01  \n",
            "25%   -7.093710e-01  \n",
            "50%   -7.093710e-01  \n",
            "75%    3.635085e-01  \n",
            "max    2.509268e+00  \n"
          ]
        }
      ]
    },
    {
      "cell_type": "code",
      "source": [
        "X = df_encoded.drop('num', axis=1)\n",
        "y = df_encoded['num']\n",
        "print(\"Features Shape:\", X.shape)\n",
        "print(\"Target Shape:\", y.shape)"
      ],
      "metadata": {
        "colab": {
          "base_uri": "https://localhost:8080/"
        },
        "id": "InvNT_FMA6mO",
        "outputId": "b07bd1eb-7a60-4b9f-f444-8e2ba0e03788"
      },
      "execution_count": 11,
      "outputs": [
        {
          "output_type": "stream",
          "name": "stdout",
          "text": [
            "Features Shape: (304, 18)\n",
            "Target Shape: (304,)\n"
          ]
        }
      ]
    },
    {
      "cell_type": "code",
      "source": [
        "from sklearn.model_selection import train_test_split\n",
        "from imblearn.over_sampling import SMOTE\n",
        "\n",
        "X_train, X_test, y_train, y_test = train_test_split(X, y, test_size=0.2, random_state=42)\n",
        "smote = SMOTE(random_state=42)\n",
        "X_train_res, y_train_res = smote.fit_resample(X_train, y_train)\n",
        "print(\"Training Set Class Distribution After SMOTE:\")\n",
        "print(pd.Series(y_train_res).value_counts(normalize=True))"
      ],
      "metadata": {
        "colab": {
          "base_uri": "https://localhost:8080/"
        },
        "id": "cH8JNRQOBNOD",
        "outputId": "d457dbe9-0a7b-420d-9c82-6424ba5636d6"
      },
      "execution_count": 12,
      "outputs": [
        {
          "output_type": "stream",
          "name": "stdout",
          "text": [
            "Training Set Class Distribution After SMOTE:\n",
            "num\n",
            "0    0.5\n",
            "1    0.5\n",
            "Name: proportion, dtype: float64\n"
          ]
        }
      ]
    },
    {
      "cell_type": "code",
      "source": [
        "from sklearn.ensemble import RandomForestClassifier\n",
        "from sklearn.metrics import classification_report\n",
        "\n",
        "rf = RandomForestClassifier(n_estimators=100, random_state=42)\n",
        "rf.fit(X_train_res, y_train_res)\n",
        "rf_pred = rf.predict(X_test)\n",
        "print(\"Random Forest Performance:\")\n",
        "print(classification_report(y_test, rf_pred))"
      ],
      "metadata": {
        "colab": {
          "base_uri": "https://localhost:8080/"
        },
        "id": "bldIUN2sBV9V",
        "outputId": "b1a0fada-356d-4ae7-dbe6-438921618257"
      },
      "execution_count": 13,
      "outputs": [
        {
          "output_type": "stream",
          "name": "stdout",
          "text": [
            "Random Forest Performance:\n",
            "              precision    recall  f1-score   support\n",
            "\n",
            "           0       0.82      0.88      0.85        32\n",
            "           1       0.85      0.79      0.82        29\n",
            "\n",
            "    accuracy                           0.84        61\n",
            "   macro avg       0.84      0.83      0.83        61\n",
            "weighted avg       0.84      0.84      0.84        61\n",
            "\n"
          ]
        }
      ]
    },
    {
      "cell_type": "code",
      "source": [
        "from sklearn.ensemble import RandomForestClassifier\n",
        "from sklearn.metrics import classification_report\n",
        "\n",
        "# Tuned Random Forest\n",
        "rf_tuned = RandomForestClassifier(\n",
        "    n_estimators=100,\n",
        "    max_depth=10,\n",
        "    min_samples_split=5,\n",
        "    class_weight={0: 1, 1: 2},  # Higher weight for num=1\n",
        "    random_state=42\n",
        ")\n",
        "rf_tuned.fit(X_train_res, y_train_res)\n",
        "rf_tuned_pred = rf_tuned.predict(X_test)\n",
        "print(\"Tuned Random Forest Performance:\")\n",
        "print(classification_report(y_test, rf_tuned_pred))"
      ],
      "metadata": {
        "colab": {
          "base_uri": "https://localhost:8080/"
        },
        "id": "RZIaHniXDRQ9",
        "outputId": "4f0d45cb-2e50-4c54-b7d4-93244a2352f6"
      },
      "execution_count": 14,
      "outputs": [
        {
          "output_type": "stream",
          "name": "stdout",
          "text": [
            "Tuned Random Forest Performance:\n",
            "              precision    recall  f1-score   support\n",
            "\n",
            "           0       0.84      0.81      0.83        32\n",
            "           1       0.80      0.83      0.81        29\n",
            "\n",
            "    accuracy                           0.82        61\n",
            "   macro avg       0.82      0.82      0.82        61\n",
            "weighted avg       0.82      0.82      0.82        61\n",
            "\n"
          ]
        }
      ]
    },
    {
      "cell_type": "code",
      "source": [
        "import matplotlib.pyplot as plt\n",
        "import seaborn as sns\n",
        "\n",
        "# Replace rf_tuned with grid_search.best_estimator_ or xgb if better\n",
        "feature_importance = pd.Series(rf_tuned.feature_importances_, index=X.columns).sort_values(ascending=False)\n",
        "print(\"Feature Importance (Top 10):\")\n",
        "print(feature_importance.head(10))\n",
        "\n",
        "plt.figure(figsize=(10, 8))\n",
        "feature_importance[:10].plot(kind='barh', color='#1f77b4')\n",
        "plt.title('Top 10 Feature Importance - Tuned Model')\n",
        "plt.xlabel('Importance')\n",
        "plt.ylabel('Features')\n",
        "plt.gca().invert_yaxis()\n",
        "plt.savefig('/content/feature_importance.png')\n",
        "plt.show()"
      ],
      "metadata": {
        "colab": {
          "base_uri": "https://localhost:8080/",
          "height": 937
        },
        "id": "4uqemRqMDwG4",
        "outputId": "ec0cae49-6611-43c8-f271-664378ce8951"
      },
      "execution_count": 15,
      "outputs": [
        {
          "output_type": "stream",
          "name": "stdout",
          "text": [
            "Feature Importance (Top 10):\n",
            "thalch                    0.130450\n",
            "ca                        0.112120\n",
            "thal_reversable defect    0.107519\n",
            "age                       0.095135\n",
            "oldpeak                   0.091374\n",
            "chol                      0.084515\n",
            "trestbps                  0.079470\n",
            "thal_normal               0.074588\n",
            "exang                     0.050143\n",
            "cp_non-anginal            0.039509\n",
            "dtype: float64\n"
          ]
        },
        {
          "output_type": "display_data",
          "data": {
            "text/plain": [
              "<Figure size 1000x800 with 1 Axes>"
            ],
            "image/png": "[encoded data removed]"
          },
          "metadata": {}
        }
      ]
    },
    {
      "cell_type": "code",
      "source": [
        "from sklearn.metrics import confusion_matrix\n",
        "\n",
        "plt.figure(figsize=(8, 6))\n",
        "sns.heatmap(confusion_matrix(y_test, rf_tuned_pred), annot=True, fmt='d', cmap='Blues')\n",
        "plt.title('Confusion Matrix - Tuned Random Forest')\n",
        "plt.xlabel('Predicted')\n",
        "plt.ylabel('Actual')\n",
        "plt.savefig('/content/confusion_matrix.png')\n",
        "plt.show()"
      ],
      "metadata": {
        "colab": {
          "base_uri": "https://localhost:8080/",
          "height": 564
        },
        "id": "gTGeDmajG0Hd",
        "outputId": "6f6cdcab-d83d-42e5-d60f-dd94236af592"
      },
      "execution_count": 17,
      "outputs": [
        {
          "output_type": "display_data",
          "data": {
            "text/plain": [
              "<Figure size 800x600 with 2 Axes>"
            ],
            "image/png": "[encoded data removed]"
          },
          "metadata": {}
        }
      ]
    },
    {
      "cell_type": "markdown",
      "source": [
        "## Visualizations\n",
        "- **Confusion Matrix**: Shows tuned Random Forest’s performance in predicting heart disease.\n",
        "- **Feature Importance**: Highlights top predictors like thalch, ca, and thal_reversable defect."
      ],
      "metadata": {
        "id": "k-ySmkTPG8pj"
      }
    },
    {
      "cell_type": "markdown",
      "source": [
        "## Heart Disease Prediction\n",
        "### Dataset\n",
        "- UCI Heart Disease (Cleveland) with 304 records and 14 features.\n",
        "- Target: Heart disease (0 = no, 1 = yes).\n",
        "\n",
        "### Preprocessing\n",
        "- Imputed missing values with median/mode.\n",
        "- Encoded categorical variables, scaled numerical features.\n",
        "\n",
        "### Model\n",
        "- Tuned Random Forest with SMOTE and class weights.\n",
        "- Achieved 82% accuracy, 0.83 recall for heart disease.\n",
        "\n",
        "### Results\n",
        "- The model supports early detection of heart disease risk.\n",
        "- Contributors: Jasmine Presilla J and Karthick E."
      ],
      "metadata": {
        "id": "t6DphwGcHH06"
      }
    }
  ]
}